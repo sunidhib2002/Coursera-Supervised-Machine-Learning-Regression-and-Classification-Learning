{
  "nbformat": 4,
  "nbformat_minor": 0,
  "metadata": {
    "colab": {
      "name": "Linear Regression Model - 2.ipynb",
      "provenance": [],
      "authorship_tag": "ABX9TyNtqPjk0Gkgtcy6H3hsevEW",
      "include_colab_link": true
    },
    "kernelspec": {
      "name": "python3",
      "display_name": "Python 3"
    },
    "language_info": {
      "name": "python"
    }
  },
  "cells": [
    {
      "cell_type": "markdown",
      "metadata": {
        "id": "view-in-github",
        "colab_type": "text"
      },
      "source": [
        "<a href=\"https://colab.research.google.com/github/sunidhib2002/Coursera-Supervised-Machine-Learning-Regression-and-Classification-Learning/blob/main/Linear_Regression_Model_2.ipynb\" target=\"_parent\"><img src=\"https://colab.research.google.com/assets/colab-badge.svg\" alt=\"Open In Colab\"/></a>"
      ]
    },
    {
      "cell_type": "code",
      "execution_count": 1,
      "metadata": {
        "id": "Jh_KDdeMFcjj"
      },
      "outputs": [],
      "source": [
        "import math, copy\n",
        "import numpy as np\n",
        "import matplotlib.pyplot as plt"
      ]
    },
    {
      "cell_type": "code",
      "source": [
        "# dataset\n",
        "x_train = np.array([1.0, 2.0])\n",
        "y_train = np.array([300.0, 500.0])"
      ],
      "metadata": {
        "id": "1ZsTRBPsFi4X"
      },
      "execution_count": 2,
      "outputs": []
    },
    {
      "cell_type": "code",
      "source": [
        "# compute_cost function is used to calculate the cost J:\n",
        "def compute_cost(x, y, w, b):\n",
        "  m = x.shape[0]\n",
        "  cost = 0\n",
        "\n",
        "  for i in range(m):\n",
        "    f_wb = w * x[i] + b\n",
        "    cost = cost + (f_wb - y[i]) ** 2\n",
        "\n",
        "  total_cost = 1 / (2  * m) * cost\n",
        "\n",
        "  return total_cost"
      ],
      "metadata": {
        "id": "bwDljEeMFlgJ"
      },
      "execution_count": 3,
      "outputs": []
    },
    {
      "cell_type": "code",
      "source": [
        "# compute gradient function is used to calculate the partial deivate of J with respect to b and w\n",
        "def compute_gradient(x, y, w, b):\n",
        "  m = x.shape[0]\n",
        "  dj_dw = 0\n",
        "  dj_db = 0\n",
        "  for i in range(m):\n",
        "    f_wb = w * x[i] + b\n",
        "    dj_dw_i = (f_wb - y[i]) * x[i]\n",
        "    dj_db_i = f_wb - y[i]\n",
        "    dj_db += dj_db_i\n",
        "    dj_dw += dj_dw_i\n",
        "\n",
        "  dj_dw = dj_dw / m\n",
        "  dj_db = dj_db / m \n",
        "\n",
        "  return dj_dw, dj_db"
      ],
      "metadata": {
        "id": "nZC4yrd_FoZe"
      },
      "execution_count": 4,
      "outputs": []
    },
    {
      "cell_type": "code",
      "source": [
        "def gradient_descent(x, y, w_in, b_in, alpha, num_iters, cost_function, gradient_function):\n",
        "  w = copy.deepcopy(w_in)\n",
        "  J_history = []\n",
        "  p_history = []\n",
        "  b = b_in\n",
        "  w = w_in\n",
        "  for i in range(num_iters):\n",
        "    dj_dw, dj_db = gradient_function(x, y, w, b)\n",
        "\n",
        "    b =  b - alpha * dj_db\n",
        "    w = w - alpha * dj_dw\n",
        "\n",
        "    if i < 100000:\n",
        "      J_history.append(cost_function(x, y, w, b))\n",
        "      p_history.append([w, b])\n",
        "\n",
        "    return w, b, J_history, p_history"
      ],
      "metadata": {
        "id": "Xw9fktbSFtFG"
      },
      "execution_count": 5,
      "outputs": []
    },
    {
      "cell_type": "code",
      "source": [
        "w_init = 0\n",
        "b_init = 0\n",
        "iterations = 10000\n",
        "tmp_alpha = 1.0e-2\n",
        "\n",
        "w_final, b_final, J_hist, p_hist = gradient_descent(x_train, y_train, w_init, b_init, tmp_alpha, iterations, compute_cost, compute_gradient)"
      ],
      "metadata": {
        "id": "hONjzLncFzhf"
      },
      "execution_count": 6,
      "outputs": []
    },
    {
      "cell_type": "code",
      "source": [
        "print(w_final)"
      ],
      "metadata": {
        "colab": {
          "base_uri": "https://localhost:8080/"
        },
        "id": "z9PhNaGcF0zu",
        "outputId": "c3eeaddb-a5f1-4688-e269-f61762dd79e2"
      },
      "execution_count": 7,
      "outputs": [
        {
          "output_type": "stream",
          "name": "stdout",
          "text": [
            "6.5\n"
          ]
        }
      ]
    },
    {
      "cell_type": "code",
      "source": [
        "print(b_final)"
      ],
      "metadata": {
        "colab": {
          "base_uri": "https://localhost:8080/"
        },
        "id": "HvS2p6efF6LS",
        "outputId": "13af7be6-540b-42d4-c6f6-74cc67b7d3ba"
      },
      "execution_count": 8,
      "outputs": [
        {
          "output_type": "stream",
          "name": "stdout",
          "text": [
            "4.0\n"
          ]
        }
      ]
    }
  ]
}