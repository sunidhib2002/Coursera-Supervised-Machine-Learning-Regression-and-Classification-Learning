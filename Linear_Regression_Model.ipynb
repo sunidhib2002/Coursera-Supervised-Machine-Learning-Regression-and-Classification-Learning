{
  "nbformat": 4,
  "nbformat_minor": 0,
  "metadata": {
    "colab": {
      "name": "Linear Regression Model.ipynb",
      "provenance": [],
      "collapsed_sections": [],
      "authorship_tag": "ABX9TyNsoSE+9Wo15ASn6kD9uPTK"
    },
    "kernelspec": {
      "name": "python3",
      "display_name": "Python 3"
    },
    "language_info": {
      "name": "python"
    }
  },
  "cells": [
    {
      "cell_type": "code",
      "execution_count": 1,
      "metadata": {
        "id": "XVCZecJb0FAT"
      },
      "outputs": [],
      "source": [
        "import numpy as np\n",
        "import matplotlib.pyplot as plt"
      ]
    },
    {
      "cell_type": "markdown",
      "source": [
        "# **Understanding linear regression basics:**"
      ],
      "metadata": {
        "id": "NFLEuO-iM5sX"
      }
    },
    {
      "cell_type": "code",
      "source": [
        "# taking the example of house price prediction problem"
      ],
      "metadata": {
        "id": "_QYCn0E90SRP"
      },
      "execution_count": 2,
      "outputs": []
    },
    {
      "cell_type": "code",
      "source": [
        "# input or x -> size of house in 1000 squre feet\n",
        "# y or target -> price in 1000s of dollars\n",
        "# initially only taking two houses in the input\n",
        "x_train = np.array([1.0, 2.0])\n",
        "y_train = np.array([300.0, 500.0])\n",
        "print(\"x_train : \", x_train)\n",
        "print(\"y_train : \", y_train)"
      ],
      "metadata": {
        "colab": {
          "base_uri": "https://localhost:8080/"
        },
        "id": "Er2TDcU60k-0",
        "outputId": "426011d2-96f9-4d4a-9276-4de0ac6d3453"
      },
      "execution_count": 3,
      "outputs": [
        {
          "output_type": "stream",
          "name": "stdout",
          "text": [
            "x_train :  [1. 2.]\n",
            "y_train :  [300. 500.]\n"
          ]
        }
      ]
    },
    {
      "cell_type": "code",
      "source": [
        "x_train.shape"
      ],
      "metadata": {
        "colab": {
          "base_uri": "https://localhost:8080/"
        },
        "id": "3s91B-L61GDc",
        "outputId": "68b0bdc4-94e3-4d5c-db3d-97cd0a0c085b"
      },
      "execution_count": 4,
      "outputs": [
        {
          "output_type": "execute_result",
          "data": {
            "text/plain": [
              "(2,)"
            ]
          },
          "metadata": {},
          "execution_count": 4
        }
      ]
    },
    {
      "cell_type": "code",
      "source": [
        "m = x_train.shape[0]"
      ],
      "metadata": {
        "id": "49ZaOAOS1UCa"
      },
      "execution_count": 5,
      "outputs": []
    },
    {
      "cell_type": "code",
      "source": [
        "print(m)\n",
        "# m represents the size of the training set"
      ],
      "metadata": {
        "colab": {
          "base_uri": "https://localhost:8080/"
        },
        "id": "peEcqpUY1Wm7",
        "outputId": "977b9b54-1788-4712-e67e-353d4854ce7e"
      },
      "execution_count": 6,
      "outputs": [
        {
          "output_type": "stream",
          "name": "stdout",
          "text": [
            "2\n"
          ]
        }
      ]
    },
    {
      "cell_type": "code",
      "source": [
        "plt.scatter(x_train, y_train, marker = 'x', c = 'r')\n",
        "plt.title(\"Housing price\")\n",
        "plt.ylabel(\"Price(1000s of dollars)\")\n",
        "plt.xlabel(\"Size(1000 sqft)\")\n",
        "plt.show()"
      ],
      "metadata": {
        "colab": {
          "base_uri": "https://localhost:8080/",
          "height": 295
        },
        "id": "kIHCp21N1YfL",
        "outputId": "cc9ba0fa-ef35-4884-923d-42173f17354d"
      },
      "execution_count": 7,
      "outputs": [
        {
          "output_type": "display_data",
          "data": {
            "text/plain": [
              "<Figure size 432x288 with 1 Axes>"
            ],
            "image/png": "[encoded data removed]"
          },
          "metadata": {
            "needs_background": "light"
          }
        }
      ]
    },
    {
      "cell_type": "code",
      "source": [
        "w = 200\n",
        "b = 100"
      ],
      "metadata": {
        "id": "FcZqAxJq1-Oq"
      },
      "execution_count": 17,
      "outputs": []
    },
    {
      "cell_type": "code",
      "source": [
        "def compute_model_output(x, w, b):\n",
        "  m = x.shape[0]\n",
        "  f_wb = np.zeros(m)\n",
        "  for i in range(0, m):\n",
        "    f_wb[i] = w * x[i] + b\n",
        "\n",
        "  return f_wb"
      ],
      "metadata": {
        "id": "V7Iey-VR2eER"
      },
      "execution_count": 13,
      "outputs": []
    },
    {
      "cell_type": "code",
      "source": [
        "tmp_f_wb = compute_model_output(x_train, w, b)\n",
        "\n",
        "plt.plot(x_train, tmp_f_wb, c = 'b', label = \"our prediction\")\n",
        "plt.scatter(x_train, y_train, c = 'r', label = \"Actual values\")\n",
        "plt.title(\"housing prices\")\n",
        "plt.ylabel(\"price\")\n",
        "plt.xlabel(\"size\")\n",
        "plt.legend()\n",
        "plt.show()"
      ],
      "metadata": {
        "colab": {
          "base_uri": "https://localhost:8080/",
          "height": 295
        },
        "id": "Pyzl6SS33JoX",
        "outputId": "4e3c7183-90bc-4ce9-9cd1-ef0f191ac949"
      },
      "execution_count": 18,
      "outputs": [
        {
          "output_type": "display_data",
          "data": {
            "text/plain": [
              "<Figure size 432x288 with 1 Axes>"
            ],
            "image/png": "[encoded data removed]"
          },
          "metadata": {
            "needs_background": "light"
          }
        }
      ]
    },
    {
      "cell_type": "code",
      "source": [
        ""
      ],
      "metadata": {
        "id": "-wnY5CoMM0FX"
      },
      "execution_count": null,
      "outputs": []
    },
    {
      "cell_type": "code",
      "source": [
        ""
      ],
      "metadata": {
        "id": "jBcSXgg8M0kX"
      },
      "execution_count": 8,
      "outputs": []
    }
  ]
}